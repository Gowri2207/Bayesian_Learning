{
  "nbformat": 4,
  "nbformat_minor": 0,
  "metadata": {
    "colab": {
      "provenance": []
    },
    "kernelspec": {
      "name": "python3",
      "display_name": "Python 3"
    },
    "language_info": {
      "name": "python"
    }
  },
  "cells": [
    {
      "cell_type": "code",
      "source": [
        "import numpy as np\n",
        "import pandas as pd\n",
        "from sklearn.gaussian_process import GaussianProcessRegressor\n",
        "from sklearn.preprocessing import StandardScaler\n",
        "from sklearn.gaussian_process.kernels import Matern\n",
        "from sklearn.model_selection import train_test_split\n",
        "from sklearn.metrics import mean_squared_error"
      ],
      "metadata": {
        "id": "w-9YJ1bjUkU_"
      },
      "execution_count": 3,
      "outputs": []
    },
    {
      "cell_type": "code",
      "source": [
        "def data(node_num):\n",
        "  df = pd.read_csv('Node_50{}.csv'.format(node_num))\n",
        "\n",
        "  # Split data into train and test sets\n",
        "  train = df.dropna()\n",
        "\n",
        "  hum_out = df[df['humidity'].isnull()]\n",
        "  temp_out = df[df['temperature'].isnull()]\n",
        "  X1=train[['ID','humidity']]\n",
        "  Y1=train['temperature']\n",
        "\n",
        "  X1_train,X1_test,y1_train,y1_test=train_test_split(X1,Y1,test_size=0.2)\n",
        "\n",
        "\n",
        "  X2=train[['ID','temperature']]\n",
        "  Y2=train['humidity']\n",
        "  X2_train,X2_test,y2_train,y2_test=train_test_split(X2,Y2,test_size=0.2)\n",
        "  # Define kernel function for GPR\n",
        "  kernel = Matern(nu=1.5)\n",
        "  # Train GPR on the non-missing values\n",
        "  gpr_temp = GaussianProcessRegressor(kernel=kernel, n_restarts_optimizer=10, alpha=0.1)\n",
        "  gpr_temp.fit(X1_train,y1_train)\n",
        "  y1_pred=gpr_temp.predict(X1_test)\n",
        "  mse1=mean_squared_error(y1_pred,y1_test)\n",
        "  print(\"mean square error for node {} (input temperature) is: {} \".format(node_num,mse1))\n",
        "  print('\\n')\n",
        "  gpr_humid = GaussianProcessRegressor(kernel=kernel, n_restarts_optimizer=10, alpha=0.1)\n",
        "  gpr_humid.fit(X2_train,y2_train)\n",
        "  y2_pred=gpr_humid.predict(X2_test)\n",
        "  mse2=mean_squared_error(y2_pred,y2_test)\n",
        "  print(\"mean square error for node {} (input humidity) is: {} \".format(node_num,mse2))\n",
        "  print('\\n\\n\\n')\n",
        "  # Predict the missing values using GPR\n",
        "  temperature= gpr_temp.predict(temp_out[[ 'ID','humidity']])\n",
        "  humidity = gpr_humid.predict(hum_out[[ 'ID','temperature']])\n",
        "  ID_temp=temp_out['ID']\n",
        "  ID_humid=hum_out['ID']\n",
        "  return ID_temp,temperature,ID_humid,humidity\n",
        "\n"
      ],
      "metadata": {
        "id": "rxCCJIFVpMEj"
      },
      "execution_count": 45,
      "outputs": []
    },
    {
      "cell_type": "code",
      "source": [
        "ID_temp_1,temp_1,ID_humid_1,humid_1=data(1)\n"
      ],
      "metadata": {
        "colab": {
          "base_uri": "https://localhost:8080/"
        },
        "id": "GsAsaQBMpYD3",
        "outputId": "69f8aff2-e3da-4dfd-ddf7-84ef7924b72a"
      },
      "execution_count": 33,
      "outputs": [
        {
          "output_type": "stream",
          "name": "stdout",
          "text": [
            "Index(['ID', 'temperature'], dtype='object')\n",
            "0    36.47\n",
            "1    35.52\n",
            "Name: humidity, dtype: float64\n",
            "Index(['ID', 'temperature'], dtype='object')\n",
            "1309    70.36\n",
            "1125    34.42\n",
            "Name: humidity, dtype: float64\n",
            "mean square error for node 1 (input temperature) is: 0.37674823746082514 \n",
            "\n",
            "\n",
            "mean square error for node 1 (input humidity) is: 5.890096577308475 \n",
            "\n",
            "\n",
            "\n",
            "\n"
          ]
        }
      ]
    },
    {
      "cell_type": "code",
      "source": [
        "ID_temp_2,temp_2,ID_humid_2,humid_2=data(2)"
      ],
      "metadata": {
        "colab": {
          "base_uri": "https://localhost:8080/"
        },
        "id": "a5qn6tSZqlET",
        "outputId": "c466bf3e-e9cc-4a3a-db94-083ce052e090"
      },
      "execution_count": 34,
      "outputs": [
        {
          "output_type": "stream",
          "name": "stdout",
          "text": [
            "Index(['ID', 'temperature'], dtype='object')\n",
            "0    30.63\n",
            "1    31.11\n",
            "Name: humidity, dtype: float64\n",
            "Index(['ID', 'temperature'], dtype='object')\n",
            "839    63.117\n",
            "502    55.390\n",
            "Name: humidity, dtype: float64\n",
            "mean square error for node 2 (input temperature) is: 0.4384583355047268 \n",
            "\n",
            "\n",
            "mean square error for node 2 (input humidity) is: 2.4750638230908653 \n",
            "\n",
            "\n",
            "\n",
            "\n"
          ]
        }
      ]
    },
    {
      "cell_type": "code",
      "source": [
        "ID_temp_5,temp_5,ID_humid_5,humid_5=data(5)"
      ],
      "metadata": {
        "colab": {
          "base_uri": "https://localhost:8080/"
        },
        "id": "ohnaMe0atoeq",
        "outputId": "cc15742e-5a14-41d8-a0f0-6befe4e1716d"
      },
      "execution_count": 36,
      "outputs": [
        {
          "output_type": "stream",
          "name": "stdout",
          "text": [
            "mean square error for node 5 (input temperature) is: 0.18809245064773425 \n",
            "\n",
            "\n",
            "mean square error for node 5 (input humidity) is: 3.5501370562933348 \n",
            "\n",
            "\n",
            "\n",
            "\n"
          ]
        }
      ]
    },
    {
      "cell_type": "code",
      "source": [
        "ID_temp_7,temp_7,ID_humid_7,humid_7=data(7)"
      ],
      "metadata": {
        "colab": {
          "base_uri": "https://localhost:8080/"
        },
        "id": "BEECyRBZtp3B",
        "outputId": "67ee4585-f466-44ff-9a20-113ed1938e6e"
      },
      "execution_count": 37,
      "outputs": [
        {
          "output_type": "stream",
          "name": "stdout",
          "text": [
            "mean square error for node 7 (input temperature) is: 0.2889311912416171 \n",
            "\n",
            "\n",
            "mean square error for node 7 (input humidity) is: 4.062736699676026 \n",
            "\n",
            "\n",
            "\n",
            "\n"
          ]
        }
      ]
    },
    {
      "cell_type": "code",
      "source": [
        "ID_temp_8,temp_8,ID_humid_8,humid_8=data(8)"
      ],
      "metadata": {
        "colab": {
          "base_uri": "https://localhost:8080/"
        },
        "id": "sbxIXxg1tt85",
        "outputId": "0f9e0ac1-215a-4414-870e-64736ebbba13"
      },
      "execution_count": 38,
      "outputs": [
        {
          "output_type": "stream",
          "name": "stdout",
          "text": [
            "mean square error for node 8 (input temperature) is: 0.2625555078531739 \n",
            "\n",
            "\n",
            "mean square error for node 8 (input humidity) is: 2.2612033757226775 \n",
            "\n",
            "\n",
            "\n",
            "\n"
          ]
        }
      ]
    },
    {
      "cell_type": "code",
      "source": [
        "ID=np.concatenate((ID_temp_1,ID_humid_1,ID_temp_2,ID_humid_2,ID_temp_5,ID_humid_5,ID_temp_7,ID_humid_7,ID_temp_8,ID_humid_8),axis=0)\n",
        "predictions=np.concatenate((temp_1,humid_1,temp_2,humid_2,temp_5,humid_5,temp_7,humid_7,temp_8,humid_8),axis=0)"
      ],
      "metadata": {
        "id": "1vuR6Kr8qo9P"
      },
      "execution_count": 42,
      "outputs": []
    },
    {
      "cell_type": "code",
      "source": [
        "sub=pd.DataFrame()\n",
        "sub['ID']=ID\n",
        "sub['predictions']=predictions\n",
        "sub.to_csv('sub.csv')"
      ],
      "metadata": {
        "id": "J-q_fil1qr71"
      },
      "execution_count": 43,
      "outputs": []
    },
    {
      "cell_type": "code",
      "source": [
        "sub.head()"
      ],
      "metadata": {
        "colab": {
          "base_uri": "https://localhost:8080/",
          "height": 206
        },
        "id": "RWJoduzXqv4C",
        "outputId": "28cd955c-8199-49df-9f17-46916331ab60"
      },
      "execution_count": 44,
      "outputs": [
        {
          "output_type": "execute_result",
          "data": {
            "text/plain": [
              "    ID  predictions\n",
              "0   20    23.294183\n",
              "1  119    22.801409\n",
              "2  149    24.255012\n",
              "3  155    24.333413\n",
              "4  163    24.090154"
            ],
            "text/html": [
              "\n",
              "  <div id=\"df-c2cb3334-7d1f-4b27-b6cb-53d18d152200\">\n",
              "    <div class=\"colab-df-container\">\n",
              "      <div>\n",
              "<style scoped>\n",
              "    .dataframe tbody tr th:only-of-type {\n",
              "        vertical-align: middle;\n",
              "    }\n",
              "\n",
              "    .dataframe tbody tr th {\n",
              "        vertical-align: top;\n",
              "    }\n",
              "\n",
              "    .dataframe thead th {\n",
              "        text-align: right;\n",
              "    }\n",
              "</style>\n",
              "<table border=\"1\" class=\"dataframe\">\n",
              "  <thead>\n",
              "    <tr style=\"text-align: right;\">\n",
              "      <th></th>\n",
              "      <th>ID</th>\n",
              "      <th>predictions</th>\n",
              "    </tr>\n",
              "  </thead>\n",
              "  <tbody>\n",
              "    <tr>\n",
              "      <th>0</th>\n",
              "      <td>20</td>\n",
              "      <td>23.294183</td>\n",
              "    </tr>\n",
              "    <tr>\n",
              "      <th>1</th>\n",
              "      <td>119</td>\n",
              "      <td>22.801409</td>\n",
              "    </tr>\n",
              "    <tr>\n",
              "      <th>2</th>\n",
              "      <td>149</td>\n",
              "      <td>24.255012</td>\n",
              "    </tr>\n",
              "    <tr>\n",
              "      <th>3</th>\n",
              "      <td>155</td>\n",
              "      <td>24.333413</td>\n",
              "    </tr>\n",
              "    <tr>\n",
              "      <th>4</th>\n",
              "      <td>163</td>\n",
              "      <td>24.090154</td>\n",
              "    </tr>\n",
              "  </tbody>\n",
              "</table>\n",
              "</div>\n",
              "      <button class=\"colab-df-convert\" onclick=\"convertToInteractive('df-c2cb3334-7d1f-4b27-b6cb-53d18d152200')\"\n",
              "              title=\"Convert this dataframe to an interactive table.\"\n",
              "              style=\"display:none;\">\n",
              "        \n",
              "  <svg xmlns=\"http://www.w3.org/2000/svg\" height=\"24px\"viewBox=\"0 0 24 24\"\n",
              "       width=\"24px\">\n",
              "    <path d=\"M0 0h24v24H0V0z\" fill=\"none\"/>\n",
              "    <path d=\"M18.56 5.44l.94 2.06.94-2.06 2.06-.94-2.06-.94-.94-2.06-.94 2.06-2.06.94zm-11 1L8.5 8.5l.94-2.06 2.06-.94-2.06-.94L8.5 2.5l-.94 2.06-2.06.94zm10 10l.94 2.06.94-2.06 2.06-.94-2.06-.94-.94-2.06-.94 2.06-2.06.94z\"/><path d=\"M17.41 7.96l-1.37-1.37c-.4-.4-.92-.59-1.43-.59-.52 0-1.04.2-1.43.59L10.3 9.45l-7.72 7.72c-.78.78-.78 2.05 0 2.83L4 21.41c.39.39.9.59 1.41.59.51 0 1.02-.2 1.41-.59l7.78-7.78 2.81-2.81c.8-.78.8-2.07 0-2.86zM5.41 20L4 18.59l7.72-7.72 1.47 1.35L5.41 20z\"/>\n",
              "  </svg>\n",
              "      </button>\n",
              "      \n",
              "  <style>\n",
              "    .colab-df-container {\n",
              "      display:flex;\n",
              "      flex-wrap:wrap;\n",
              "      gap: 12px;\n",
              "    }\n",
              "\n",
              "    .colab-df-convert {\n",
              "      background-color: #E8F0FE;\n",
              "      border: none;\n",
              "      border-radius: 50%;\n",
              "      cursor: pointer;\n",
              "      display: none;\n",
              "      fill: #1967D2;\n",
              "      height: 32px;\n",
              "      padding: 0 0 0 0;\n",
              "      width: 32px;\n",
              "    }\n",
              "\n",
              "    .colab-df-convert:hover {\n",
              "      background-color: #E2EBFA;\n",
              "      box-shadow: 0px 1px 2px rgba(60, 64, 67, 0.3), 0px 1px 3px 1px rgba(60, 64, 67, 0.15);\n",
              "      fill: #174EA6;\n",
              "    }\n",
              "\n",
              "    [theme=dark] .colab-df-convert {\n",
              "      background-color: #3B4455;\n",
              "      fill: #D2E3FC;\n",
              "    }\n",
              "\n",
              "    [theme=dark] .colab-df-convert:hover {\n",
              "      background-color: #434B5C;\n",
              "      box-shadow: 0px 1px 3px 1px rgba(0, 0, 0, 0.15);\n",
              "      filter: drop-shadow(0px 1px 2px rgba(0, 0, 0, 0.3));\n",
              "      fill: #FFFFFF;\n",
              "    }\n",
              "  </style>\n",
              "\n",
              "      <script>\n",
              "        const buttonEl =\n",
              "          document.querySelector('#df-c2cb3334-7d1f-4b27-b6cb-53d18d152200 button.colab-df-convert');\n",
              "        buttonEl.style.display =\n",
              "          google.colab.kernel.accessAllowed ? 'block' : 'none';\n",
              "\n",
              "        async function convertToInteractive(key) {\n",
              "          const element = document.querySelector('#df-c2cb3334-7d1f-4b27-b6cb-53d18d152200');\n",
              "          const dataTable =\n",
              "            await google.colab.kernel.invokeFunction('convertToInteractive',\n",
              "                                                     [key], {});\n",
              "          if (!dataTable) return;\n",
              "\n",
              "          const docLinkHtml = 'Like what you see? Visit the ' +\n",
              "            '<a target=\"_blank\" href=https://colab.research.google.com/notebooks/data_table.ipynb>data table notebook</a>'\n",
              "            + ' to learn more about interactive tables.';\n",
              "          element.innerHTML = '';\n",
              "          dataTable['output_type'] = 'display_data';\n",
              "          await google.colab.output.renderOutput(dataTable, element);\n",
              "          const docLink = document.createElement('div');\n",
              "          docLink.innerHTML = docLinkHtml;\n",
              "          element.appendChild(docLink);\n",
              "        }\n",
              "      </script>\n",
              "    </div>\n",
              "  </div>\n",
              "  "
            ]
          },
          "metadata": {},
          "execution_count": 44
        }
      ]
    }
  ]
}